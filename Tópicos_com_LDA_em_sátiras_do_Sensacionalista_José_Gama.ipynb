{
  "nbformat": 4,
  "nbformat_minor": 0,
  "metadata": {
    "colab": {
      "provenance": [],
      "collapsed_sections": [],
      "authorship_tag": "ABX9TyMtvdXZrKRVxBRPoosVPyyX",
      "include_colab_link": true
    },
    "kernelspec": {
      "name": "python3",
      "display_name": "Python 3"
    },
    "language_info": {
      "name": "python"
    }
  },
  "cells": [
    {
      "cell_type": "markdown",
      "metadata": {
        "id": "view-in-github",
        "colab_type": "text"
      },
      "source": [
        "<a href=\"https://colab.research.google.com/github/mixmaxze/modelagem_topicos_lda/blob/main/T%C3%B3picos_com_LDA_em_s%C3%A1tiras_do_Sensacionalista_Jos%C3%A9_Gama.ipynb\" target=\"_parent\"><img src=\"https://colab.research.google.com/assets/colab-badge.svg\" alt=\"Open In Colab\"/></a>"
      ]
    },
    {
      "cell_type": "markdown",
      "source": [
        "# Modelagem de Tópicos com LDA (Alocação latente de Dirichlet)\n",
        "\n",
        "### Quando descrevemos textos, frequentemente o fazemos usando além das palavras do texto também quais são os assuntos ou **tópicos** de que um texto trata. LDA descobre grupos de palavras que são utilizadas em conjunto e aproxima esses tópicos.\n",
        "\n",
        "### Feito por José Matheus do Nascimento Gama para a disciplina de Processamento de Linguagem Natural (Ciência da Computação - UFCG)."
      ],
      "metadata": {
        "id": "pvhwAK_MRP0m"
      }
    },
    {
      "cell_type": "code",
      "execution_count": null,
      "metadata": {
        "colab": {
          "base_uri": "https://localhost:8080/"
        },
        "id": "scq8EnPF15im",
        "outputId": "ec7a22eb-134d-4958-be0c-b9363bda25d2"
      },
      "outputs": [
        {
          "output_type": "stream",
          "name": "stdout",
          "text": [
            "[nltk_data] Downloading package stopwords to /root/nltk_data...\n",
            "[nltk_data]   Package stopwords is already up-to-date!\n"
          ]
        },
        {
          "output_type": "execute_result",
          "data": {
            "text/plain": [
              "True"
            ]
          },
          "metadata": {},
          "execution_count": 24
        }
      ],
      "source": [
        "import altair as alt\n",
        "import nltk\n",
        "import numpy as np\n",
        "import pandas as pd\n",
        "import re\n",
        "\n",
        "from nltk.corpus import stopwords\n",
        "from sklearn.decomposition import LatentDirichletAllocation\n",
        "from sklearn.feature_extraction.text import CountVectorizer\n",
        "\n",
        "nltk.download('stopwords')"
      ]
    },
    {
      "cell_type": "code",
      "source": [],
      "metadata": {
        "id": "IVvhiBxIaIAy"
      },
      "execution_count": null,
      "outputs": []
    },
    {
      "cell_type": "code",
      "metadata": {
        "id": "WOr6t9I-bVsL",
        "outputId": "18520c7a-12dc-4f92-dab8-e86bcca249b1",
        "colab": {
          "base_uri": "https://localhost:8080/",
          "height": 424
        }
      },
      "source": [
        "# Importando os dados\n",
        "\n",
        "df = pd.read_csv(\"https://raw.githubusercontent.com/caiolibanio/atividade_NLP/master/csv_satiras_politicas.csv\")\n",
        "df.head()"
      ],
      "execution_count": null,
      "outputs": [
        {
          "output_type": "execute_result",
          "data": {
            "text/html": [
              "\n",
              "  <div id=\"df-2cf5be43-de68-44ff-84e5-4f88f485a222\">\n",
              "    <div class=\"colab-df-container\">\n",
              "      <div>\n",
              "<style scoped>\n",
              "    .dataframe tbody tr th:only-of-type {\n",
              "        vertical-align: middle;\n",
              "    }\n",
              "\n",
              "    .dataframe tbody tr th {\n",
              "        vertical-align: top;\n",
              "    }\n",
              "\n",
              "    .dataframe thead th {\n",
              "        text-align: right;\n",
              "    }\n",
              "</style>\n",
              "<table border=\"1\" class=\"dataframe\">\n",
              "  <thead>\n",
              "    <tr style=\"text-align: right;\">\n",
              "      <th></th>\n",
              "      <th>title</th>\n",
              "      <th>text</th>\n",
              "      <th>label</th>\n",
              "    </tr>\n",
              "  </thead>\n",
              "  <tbody>\n",
              "    <tr>\n",
              "      <th>0</th>\n",
              "      <td>crise e tao grande que nem tiozao do pave fez piada na noite de natal</td>\n",
              "      <td>a familia guimaraes passou a noite de natal perplexa.  genival o tiozao do pave deles desde 1985 nao fez a tradicional piada quando as sobremesas da ceia chegaram.  dispensou a piada e o pave.  limitouse a se servir de pudim de leite e sentar no sofa mudo.  tambem nao contou piadas sexistas e pa...</td>\n",
              "      <td>satire</td>\n",
              "    </tr>\n",
              "    <tr>\n",
              "      <th>1</th>\n",
              "      <td>nao me representam diz jesus sobre intolerantes que apedrejaram crianca que saia do candomble</td>\n",
              "      <td>uma menina de 11 anos apedrejada ao sair de uma festa de candomble no ultimo domingo no rio de janeiro fez a sociedade parar e refletir sobre a intolerancia. apedrejada por homens que gritaram vai queimar no inferno a menina hoje diz ter medo de morrer. mas nao foram apenas comentaristas deste m...</td>\n",
              "      <td>satire</td>\n",
              "    </tr>\n",
              "    <tr>\n",
              "      <th>2</th>\n",
              "      <td>marina silva e heloisa helena montam novo partido o partido esquerdista da republica unida p. e. r. u</td>\n",
              "      <td>insatisfeitas com seus partidos com as siglas dos partidos com os politicos com as tardes ensolaradas com os dias chuvosos com a lei da gravidade marina silva e heloisa helena resolveram se unir ate ficarem tambem insatisfeitas uma com a outra e montar um novo partido o partido esquerdista da re...</td>\n",
              "      <td>satire</td>\n",
              "    </tr>\n",
              "    <tr>\n",
              "      <th>3</th>\n",
              "      <td>dez propostas que podem realmente mudar o brasil</td>\n",
              "      <td>o instituto nupal nucleo de pesquisas da america latina fez uma pesquisa que mostrou ideias que podem mudar o brasil de verdade.  eis as propostas1 diminuicao do numero de zeros nos boletos. 2 proibicao de ouvir funk alto dentro de onibus e outros coletivos. 3 multa para piadas do pave. 4 multa ...</td>\n",
              "      <td>satire</td>\n",
              "    </tr>\n",
              "    <tr>\n",
              "      <th>4</th>\n",
              "      <td>apresentadora do cidade alerta bahia dara curso de como ser otimista e feliz</td>\n",
              "      <td>assassinatos sequestros mortes violentas.  nenhuma noticia parece abalar a apresentadora do cidade alerta da bahia mariana sena.  ao fim de cada noticiario capaz de abalar as mentes mais equilibradas do planeta ela sempre sorri e diz que esta se sentindo otima.  ponto para mariana que no mes que...</td>\n",
              "      <td>satire</td>\n",
              "    </tr>\n",
              "  </tbody>\n",
              "</table>\n",
              "</div>\n",
              "      <button class=\"colab-df-convert\" onclick=\"convertToInteractive('df-2cf5be43-de68-44ff-84e5-4f88f485a222')\"\n",
              "              title=\"Convert this dataframe to an interactive table.\"\n",
              "              style=\"display:none;\">\n",
              "        \n",
              "  <svg xmlns=\"http://www.w3.org/2000/svg\" height=\"24px\"viewBox=\"0 0 24 24\"\n",
              "       width=\"24px\">\n",
              "    <path d=\"M0 0h24v24H0V0z\" fill=\"none\"/>\n",
              "    <path d=\"M18.56 5.44l.94 2.06.94-2.06 2.06-.94-2.06-.94-.94-2.06-.94 2.06-2.06.94zm-11 1L8.5 8.5l.94-2.06 2.06-.94-2.06-.94L8.5 2.5l-.94 2.06-2.06.94zm10 10l.94 2.06.94-2.06 2.06-.94-2.06-.94-.94-2.06-.94 2.06-2.06.94z\"/><path d=\"M17.41 7.96l-1.37-1.37c-.4-.4-.92-.59-1.43-.59-.52 0-1.04.2-1.43.59L10.3 9.45l-7.72 7.72c-.78.78-.78 2.05 0 2.83L4 21.41c.39.39.9.59 1.41.59.51 0 1.02-.2 1.41-.59l7.78-7.78 2.81-2.81c.8-.78.8-2.07 0-2.86zM5.41 20L4 18.59l7.72-7.72 1.47 1.35L5.41 20z\"/>\n",
              "  </svg>\n",
              "      </button>\n",
              "      \n",
              "  <style>\n",
              "    .colab-df-container {\n",
              "      display:flex;\n",
              "      flex-wrap:wrap;\n",
              "      gap: 12px;\n",
              "    }\n",
              "\n",
              "    .colab-df-convert {\n",
              "      background-color: #E8F0FE;\n",
              "      border: none;\n",
              "      border-radius: 50%;\n",
              "      cursor: pointer;\n",
              "      display: none;\n",
              "      fill: #1967D2;\n",
              "      height: 32px;\n",
              "      padding: 0 0 0 0;\n",
              "      width: 32px;\n",
              "    }\n",
              "\n",
              "    .colab-df-convert:hover {\n",
              "      background-color: #E2EBFA;\n",
              "      box-shadow: 0px 1px 2px rgba(60, 64, 67, 0.3), 0px 1px 3px 1px rgba(60, 64, 67, 0.15);\n",
              "      fill: #174EA6;\n",
              "    }\n",
              "\n",
              "    [theme=dark] .colab-df-convert {\n",
              "      background-color: #3B4455;\n",
              "      fill: #D2E3FC;\n",
              "    }\n",
              "\n",
              "    [theme=dark] .colab-df-convert:hover {\n",
              "      background-color: #434B5C;\n",
              "      box-shadow: 0px 1px 3px 1px rgba(0, 0, 0, 0.15);\n",
              "      filter: drop-shadow(0px 1px 2px rgba(0, 0, 0, 0.3));\n",
              "      fill: #FFFFFF;\n",
              "    }\n",
              "  </style>\n",
              "\n",
              "      <script>\n",
              "        const buttonEl =\n",
              "          document.querySelector('#df-2cf5be43-de68-44ff-84e5-4f88f485a222 button.colab-df-convert');\n",
              "        buttonEl.style.display =\n",
              "          google.colab.kernel.accessAllowed ? 'block' : 'none';\n",
              "\n",
              "        async function convertToInteractive(key) {\n",
              "          const element = document.querySelector('#df-2cf5be43-de68-44ff-84e5-4f88f485a222');\n",
              "          const dataTable =\n",
              "            await google.colab.kernel.invokeFunction('convertToInteractive',\n",
              "                                                     [key], {});\n",
              "          if (!dataTable) return;\n",
              "\n",
              "          const docLinkHtml = 'Like what you see? Visit the ' +\n",
              "            '<a target=\"_blank\" href=https://colab.research.google.com/notebooks/data_table.ipynb>data table notebook</a>'\n",
              "            + ' to learn more about interactive tables.';\n",
              "          element.innerHTML = '';\n",
              "          dataTable['output_type'] = 'display_data';\n",
              "          await google.colab.output.renderOutput(dataTable, element);\n",
              "          const docLink = document.createElement('div');\n",
              "          docLink.innerHTML = docLinkHtml;\n",
              "          element.appendChild(docLink);\n",
              "        }\n",
              "      </script>\n",
              "    </div>\n",
              "  </div>\n",
              "  "
            ],
            "text/plain": [
              "                                                                                                    title  ...   label\n",
              "0                                   crise e tao grande que nem tiozao do pave fez piada na noite de natal  ...  satire\n",
              "1           nao me representam diz jesus sobre intolerantes que apedrejaram crianca que saia do candomble  ...  satire\n",
              "2   marina silva e heloisa helena montam novo partido o partido esquerdista da republica unida p. e. r. u  ...  satire\n",
              "3                                                        dez propostas que podem realmente mudar o brasil  ...  satire\n",
              "4                            apresentadora do cidade alerta bahia dara curso de como ser otimista e feliz  ...  satire\n",
              "\n",
              "[5 rows x 3 columns]"
            ]
          },
          "metadata": {},
          "execution_count": 25
        }
      ]
    },
    {
      "cell_type": "markdown",
      "source": [
        "## Pré-processamento"
      ],
      "metadata": {
        "id": "-DE_UZLH4Wvr"
      }
    },
    {
      "cell_type": "code",
      "source": [
        "# Definindo as stop words (língua portuguesa) + outras específicas\n",
        "\n",
        "stop_words = set(stopwords.words(\"portuguese\"))\n",
        "stop_words.update(['adeus', 'agora', 'aí', 'ainda', 'além', 'algo', 'alguém', 'algum', 'alguma', 'algumas', 'alguns', 'ali', 'ampla', 'amplas', 'amplo', 'amplos', 'ano', 'anos', 'ante', 'antes', 'apenas', 'apoio', 'após', 'aqui', 'área', 'assim', 'atrás', 'através', 'baixo', 'bastante', 'bem', 'boa', 'boas', 'bom', 'bons', 'breve', 'cá', 'cada', 'catorze', 'cedo', 'cento', 'certamente', 'certeza', 'cima', 'cinco', 'coisa', 'coisas', 'conselho', 'contra', 'contudo', 'custa', 'dá', 'dão', 'daquela', 'daquelas', 'daquele', 'daqueles', 'dar', 'debaixo', 'demais', 'dentro', 'desde', 'dessa', 'dessas', 'desse', 'desses', 'desta', 'destas', 'deste', 'destes', 'deve', 'devem', 'devendo', 'dever', 'deverá', 'deverão', 'deveria', 'deveriam', 'devia', 'deviam', 'dez', 'dezanove', 'dezasseis', 'dezassete', 'dezoito', 'dia', 'diante', 'disse', 'disso', 'disto', 'dito', 'diz', 'dizem', 'dizer', 'dois', 'doze', 'duas', 'dúvida', 'embora', 'enquanto', 'és', 'estar', 'estás', 'estiveste', 'estivestes', 'etc', 'exemplo', 'faço', 'falta', 'favor', 'faz', 'fazeis', 'fazem', 'fazemos', 'fazendo', 'fazer', 'fazes', 'feita', 'feitas', 'feito', 'feitos', 'fez', 'fim', 'final', 'forma', 'foste', 'fostes', 'geral', 'grande', 'grandes', 'grupo', 'havia', 'hoje', 'hora', 'horas', 'la', 'lá', 'lado', 'lo', 'local', 'logo', 'longe', 'lugar', 'maior', 'maioria', 'mal', 'máximo', 'meio', 'menor', 'menos', 'mês', 'meses', 'mesma', 'mesmas', 'mesmos', 'mil', 'momento', 'muita', 'muitas', 'muitos', 'nada', 'naquela', 'naquelas', 'naquele', 'naqueles', 'nenhum', 'nenhuma', 'nessa', 'nessas', 'nesse', 'nesses', 'nesta', 'nestas', 'neste', 'nestes', 'ninguém', 'nível', 'noite', 'nome', 'nova', 'novas', 'nove', 'novo', 'novos', 'número', 'nunca', 'obra', 'obrigada', 'obrigado', 'oitava', 'oitavo', 'oito', 'onde', 'ontem', 'onze', 'outra', 'outras', 'outro', 'outros', 'parece', 'parte', 'partir', 'paucas', 'pequena', 'pequenas', 'pequeno', 'pequenos', 'per', 'perante', 'perto', 'pode', 'pude', 'pôde', 'podem', 'podendo', 'poder', 'poderia', 'poderiam', 'podia', 'podiam', 'põe', 'põem', 'pois', 'ponto', 'pontos', 'porém', 'porque', 'porquê', 'posição', 'possível', 'possivelmente', 'posso', 'pouca', 'poucas', 'pouco', 'poucos', 'primeira', 'primeiras', 'primeiro', 'primeiros', 'própria', 'próprias', 'próprio', 'próprios', 'próxima', 'próximas', 'próximo', 'próximos', 'pude', 'puderam', 'quais', 'quáis', 'quanto', 'quantos', 'quarta', 'quarto', 'quatro', 'quê', 'quer', 'quereis', 'querem', 'queremas', 'queres', 'quero', 'questão', 'quinta', 'quinto', 'quinze', 'relação', 'sabe', 'sabem', 'segunda', 'segundo', 'sei', 'seis', 'sempre', 'sendo', 'ser', 'sete', 'sétima', 'sétimo', 'sexta', 'sexto', 'si', 'sido', 'sim', 'sistema', 'sob', 'sobre', 'sois', 'tal', 'talvez', 'tampouco', 'tanta', 'tantas', 'tanto', 'tão', 'tarde', 'têm', 'tendes', 'tendo', 'tens', 'ter', 'terceira', 'terceiro', 'ti', 'tido', 'tiveste', 'tivestes', 'toda', 'todas', 'todavia', 'todo', 'todos', 'trabalho', 'três', 'treze', 'tudo', 'última', 'últimas', 'último', 'últimos', 'umas', 'uns', 'vai', 'vais', 'vão', 'vários', 'vem', 'vêm', 'vendo', 'vens', 'ver', 'vez', 'vezes', 'viagem', 'vindo', 'vinte', 'vir', 'vós', 'vossa', 'vossas', 'vosso', 'vossos', 'zero'])\n",
        "\n",
        "# Limpando os textos\n",
        "\n",
        "clean_satires = []\n",
        "\n",
        "for s in range(len(df['text'])):\n",
        "\n",
        "    satire = df['text'].iloc[s]\n",
        "\n",
        "    # Remove caracteres especiais \n",
        "    # Não irei tirar os dígitos pois talvez as datas sejam importantes nessas sátiras \n",
        "    satire = re.sub(\"(\\\\d|\\\\W)+|\\w*\\d\\w*\",\" \", satire)\n",
        "\n",
        "    clean_satires.append(satire)\n",
        "\n",
        "clean_satires[0:6]"
      ],
      "metadata": {
        "colab": {
          "base_uri": "https://localhost:8080/"
        },
        "id": "aJa7OC3l3Ts0",
        "outputId": "65aff4ab-ca42-4512-c9ae-d15eafdb6194"
      },
      "execution_count": null,
      "outputs": [
        {
          "output_type": "execute_result",
          "data": {
            "text/plain": [
              "['a familia guimaraes passou a noite de natal perplexa genival o tiozao do pave deles desde nao fez a tradicional piada quando as sobremesas da ceia chegaram dispensou a piada e o pave limitouse a se servir de pudim de leite e sentar no sofa mudo tambem nao contou piadas sexistas e passou a noite sem qualquer trocadilho idiota e a crise servidor publico estadual genival esta sem receber teve que vender seu chevette e nao conseguiu comprar presentes para nenhum dos sobrinhos a noite de natal sem a piada do pave ou pacume nao e a mesma diz rafael pereira anos um de seus sobrinhos esperamos que ano que vem as coisas melhores e ele volte a fazer essa piada tao idiota porque noite de natal sem piada do pave e pior do que sem rabanada ',\n",
              " 'uma menina de anos apedrejada ao sair de uma festa de candomble no ultimo domingo no rio de janeiro fez a sociedade parar e refletir sobre a intolerancia apedrejada por homens que gritaram vai queimar no inferno a menina hoje diz ter medo de morrer mas nao foram apenas comentaristas deste mundo que se manifestaram nas ultimas horas jesus cristo em pessoa emitiu um comunicado por meio de sua assessoria de imprensa essas pessoas nao me representam disse o filho do homem nunca vi na vida nem depois de morto nem depois de ressuscitado se falam em queimar no inferno devem ter aprendido isso em outro lugar se eles tivessem alguma coisa a ver comigo eu diria que as chances deles proprios irem para o inferno e que seriam muito grandes ',\n",
              " 'insatisfeitas com seus partidos com as siglas dos partidos com os politicos com as tardes ensolaradas com os dias chuvosos com a lei da gravidade marina silva e heloisa helena resolveram se unir ate ficarem tambem insatisfeitas uma com a outra e montar um novo partido o partido esquerdista da republica unida segundo heloisa helena ja que elas nao se unem a ninguem em nenhum sentido e importante que o povo se una para mudar o brasil ela disse que o p e r u e o que todo mundo precisa e ele pode provocar uma grande mudanca para isto as pessoas tem que estar abertas e prontas para suportar as dores que podem causar uma ruptura com a ordem tradicional vinicius antunes',\n",
              " 'o instituto nupal nucleo de pesquisas da america latina fez uma pesquisa que mostrou ideias que podem mudar o brasil de verdade eis as   diminuicao do numero de zeros nos boletos proibicao de ouvir funk alto dentro de onibus e outros coletivos multa para piadas do pave multa para marcacao de fotos constrangedoras no facebook multa para posts com fotos de por do sol e mensagens de autoajuda em redes sociais banimento das palavras e expressoes sinergia agregar valor quebra de paradigma e afins da lingua portuguesa instalacao de bloqueadores de sinal de celular em salas de cinema e teatro saida de claudia leitte no the voice cassacao de alvara de estabelecimentos que tenham wifi mas nao saibam a senha retirada do ar de qualquer site que publique manchetes como fulana e vista tomando sorvete no shopping atentendo a um abaixo assinado dos leitores uma ultima proposta isencao de impostos para nutella e pacoquita ',\n",
              " 'assassinatos sequestros mortes violentas nenhuma noticia parece abalar a apresentadora do cidade alerta da bahia mariana sena ao fim de cada noticiario capaz de abalar as mentes mais equilibradas do planeta ela sempre sorri e diz que esta se sentindo otima ponto para mariana que no mes que vem estara a frente de cursos e workshops sobre como ser feliz apesar de tudo produtor dos eventos que convidou mariana para dar os cursos paulo santiago acredita que mariana e um ser iluminado que pode mudar o mundo quem esta feliz como ela nao assalta nao mata e nao cria treta no facebook afirma se todos aprenderem com mariana o mundo sera lindo e a paz mundial finalmente alcancada um grupo de cientistas internacionais quer levar mariana para os estados unidos para estudar sua mente veja o video e seja felizquando vc nao se abala mais com os problemas pic twitter   inacio inaacio de outubro de ',\n",
              " 'no dia do trabalhador uma noticia especial para os brasileiros a organizacao das nacoes unidas onu divulgou uma nota com uma lista de paises que vem se notabilizando pelo combate ao futuro o brasil esta em primeiro lugar ate a semana passada estava em terceiro mas depois das bombas que feriram professores esta semana pulamos automaticamente para o topo do ranking nenhum pais desvaloriza e agride professores como o brasil e professores sao muito importantes para o futuro de pais ponto para o brasil diz holand smidt coordenador da lista na onu com pauta de dino cantelli']"
            ]
          },
          "metadata": {},
          "execution_count": 26
        }
      ]
    },
    {
      "cell_type": "markdown",
      "source": [
        "### LDA funciona baseado em frequências de palavras, então usaremos TFs, e não TF-IDFs."
      ],
      "metadata": {
        "id": "a9NfBGe28xaP"
      }
    },
    {
      "cell_type": "code",
      "source": [
        "# COUNT_VECTORIZER\n",
        "\n",
        "tf_vectorizer = CountVectorizer(\n",
        "        min_df = 30,\n",
        "        max_df = 0.5,\n",
        "        max_features = 10000,\n",
        "        stop_words = stop_words,\n",
        "        ngram_range = (1,2)\n",
        ")\n",
        "\n",
        "# Transforma\n",
        "\n",
        "vec_satires = tf_vectorizer.fit_transform(clean_satires)\n",
        "\n",
        "# Retorna uma lista de palavras\n",
        "\n",
        "words = tf_vectorizer.get_feature_names_out()\n",
        "\n",
        "print(vec_satires.shape)\n",
        "print(len(words))"
      ],
      "metadata": {
        "id": "ArHoZFMr8w5T",
        "colab": {
          "base_uri": "https://localhost:8080/"
        },
        "outputId": "0a266c97-799a-45b6-f99f-1c6ae6abbb8c"
      },
      "execution_count": null,
      "outputs": [
        {
          "output_type": "stream",
          "name": "stdout",
          "text": [
            "(4374, 1703)\n",
            "1703\n"
          ]
        }
      ]
    },
    {
      "cell_type": "code",
      "source": [
        "words[600:620]"
      ],
      "metadata": {
        "colab": {
          "base_uri": "https://localhost:8080/"
        },
        "id": "atJ3b0d9oDZ-",
        "outputId": "84531ea0-418c-48d4-a645-dc0781fe1d4d"
      },
      "execution_count": null,
      "outputs": [
        {
          "output_type": "execute_result",
          "data": {
            "text/plain": [
              "array(['expresidente', 'expresidente luiz', 'expresidente lula',\n",
              "       'expressao', 'exterior', 'extremamente', 'fa', 'faca', 'facebook',\n",
              "       'facil', 'faixa', 'fala', 'falam', 'falando', 'falar', 'falei',\n",
              "       'falou', 'fama', 'familia', 'familias'], dtype=object)"
            ]
          },
          "metadata": {},
          "execution_count": 28
        }
      ]
    },
    {
      "cell_type": "markdown",
      "source": [
        "## Encontrando tópicos\n",
        "\n",
        "O resultado terá \n",
        "\n",
        "*   uma matriz que descreve a relação entre palavras e tópicos\n",
        "*   uma matriz que descreve a relação entre documentos e tópicos"
      ],
      "metadata": {
        "id": "n9St3bqdoCxt"
      }
    },
    {
      "cell_type": "code",
      "source": [
        "# Funções auxiliares\n",
        "\n",
        "def print_top_words(model, feature_names, n_top_words):\n",
        "  for topic_idx, topic in enumerate(model.components_):\n",
        "    print(\"\\n--\\nTopic #{}: \".format(topic_idx + 1))\n",
        "    message = \", \".join([feature_names[i]\n",
        "                          for i in topic.argsort()[:-n_top_words - 1:-1]])\n",
        "    print(message)\n",
        "  print()\n",
        "\n",
        "def display_topics(W, H, feature_names, documents, no_top_words, no_top_documents):\n",
        "    for topic_idx, topic in enumerate(H):\n",
        "        print(f\"\\n--\\nTopic #{topic_idx + 1}: \")\n",
        "        print(\", \".join([feature_names[i]\n",
        "                for i in topic.argsort()[:-no_top_words - 1:-1]]).upper())\n",
        "        top_d_idx = np.argsort(W[:,topic_idx])[::-1][0:no_top_documents]\n",
        "        for d in top_d_idx: \n",
        "          doc_data = df['title'].iloc[d]\n",
        "          print('{}: \\t{:.2f}'.format(doc_data[0:35], W[d, topic_idx]))"
      ],
      "metadata": {
        "id": "Zki_2Af2oVN4"
      },
      "execution_count": null,
      "outputs": []
    },
    {
      "cell_type": "code",
      "source": [
        "# Aplicando o LDA\n",
        "\n",
        "lda = LatentDirichletAllocation(n_components=8, \n",
        "                                learning_method='online', # 'online' equivale a minibatch no k-means\n",
        "                                random_state=0)\n",
        "\n",
        "lda.fit(vec_satires)\n",
        "doc_topic_matrix = lda.transform(vec_satires)"
      ],
      "metadata": {
        "id": "12tXul-XotRK"
      },
      "execution_count": null,
      "outputs": []
    },
    {
      "cell_type": "code",
      "source": [
        "print('Matriz documento-tópicos:' + str(doc_topic_matrix.shape))\n",
        "print('Matriz tópicos-termos:' + str(lda.components_.shape))"
      ],
      "metadata": {
        "colab": {
          "base_uri": "https://localhost:8080/"
        },
        "id": "YnXCl2L-s8yB",
        "outputId": "f83d4028-1da2-441d-8270-babf72a60bf5"
      },
      "execution_count": null,
      "outputs": [
        {
          "output_type": "stream",
          "name": "stdout",
          "text": [
            "Matriz documento-tópicos:(4374, 8)\n",
            "Matriz tópicos-termos:(8, 1703)\n"
          ]
        }
      ]
    },
    {
      "cell_type": "code",
      "source": [
        "# Exibe os tópicos e os títulos das sátiras associadas a cada tópico\n",
        "\n",
        "display_topics(doc_topic_matrix,\n",
        "               lda.components_, \n",
        "               words,\n",
        "               df,\n",
        "               15, \n",
        "               10)"
      ],
      "metadata": {
        "id": "kDoiLa4EtBOp",
        "colab": {
          "base_uri": "https://localhost:8080/"
        },
        "outputId": "9a8dd3f7-95cf-42f4-dcd7-d26490d1fece"
      },
      "execution_count": null,
      "outputs": [
        {
          "output_type": "stream",
          "name": "stdout",
          "text": [
            "\n",
            "--\n",
            "Topic #1: \n",
            "TEMER, PRESIDENTE, BRASIL, MICHEL, GOVERNO, MICHEL TEMER, JA, PAIS, TAMBEM, BRASILEIROS, PESSOAS, FACEBOOK, BRASILEIRO, SAO, APOS\n",
            " se quem pergunta por que o povo na: \t0.98\n",
            " reforma trabalhista e aprovada e t: \t0.98\n",
            " cego agradece a deus por nao poder: \t0.97\n",
            " medium diz que niemeyer esta com m: \t0.96\n",
            " para tentar aumentar popularidade : \t0.86\n",
            " o que marcela temer pensou na hora: \t0.86\n",
            " temer vai terminar de queimar seu : \t0.86\n",
            " dilma garante que o novo filme do : \t0.84\n",
            " temer vai dar consultoria sobre go: \t0.83\n",
            " para aumentar popularidade temer d: \t0.82\n",
            "\n",
            "--\n",
            "Topic #2: \n",
            "RIO, JANEIRO, JA, RIO JANEIRO, CIDADE, APOS, CACOFONIAS, VINICIUS, ANTUNES, PREFEITO, TAMBEM, SO, VINICIUS ANTUNES, PRA, PROJETO\n",
            " paes promete revitalizar prostibul: \t0.98\n",
            " uber lanca o uber boat exclusivame: \t0.98\n",
            " programa de governo de crivella in: \t0.98\n",
            " chefe de milicia vaidoso cria um m: \t0.98\n",
            " crivella promete renomear praia da: \t0.97\n",
            " corinthians e santos brigam por de: \t0.97\n",
            " levy fidelix diz que representa a : \t0.97\n",
            " ao saber das condicoes da vila oli: \t0.97\n",
            " apos tempestade arvore de natal da: \t0.97\n",
            " para as olimpiadas eduardo paes co: \t0.93\n",
            "\n",
            "--\n",
            "Topic #3: \n",
            "JA, POLICIA, FEDERAL, PRESO, PRISAO, DINHEIRO, JATO, LAVA, LAVA JATO, APOS, POLICIA FEDERAL, OPERACAO, MANHA, JUSTICA, CASA\n",
            " mundo acorda na tercafeira e desco: \t0.98\n",
            " rio vai usar maracana para estocar: \t0.97\n",
            " marombeiro beija mulher a forca se: \t0.97\n",
            " cachoeira e preso e brasil se surp: \t0.92\n",
            " eike tem prisao decretada e reclam: \t0.91\n",
            " eike diz que nao tem como pagar fi: \t0.91\n",
            " pt se surpreende com prisao de tes: \t0.91\n",
            " placa em sede do pt e atualizada e: \t0.90\n",
            " impossibilitado de ser ministro pe: \t0.88\n",
            " apos iate carros e joias pf apreen: \t0.87\n",
            "\n",
            "--\n",
            "Topic #4: \n",
            "VOCE, VIDEO, SILVA, FOTO, GENTE, JA, PASTOR, SO, INTERNET, MARINA, ATE, MULHER, REDES, SOCIAIS, HA\n",
            " dieta de inicio do ano faz faltar : \t0.98\n",
            " por causa do frio malafaia esta co: \t0.97\n",
            " iemanja revela que nao tem mais on: \t0.96\n",
            " marco feliciano condena beijo que : \t0.89\n",
            " marco feliciano explica que estupr: \t0.85\n",
            " marco feliciano diz que anderson s: \t0.84\n",
            " e possivel dar manchetes de violen: \t0.84\n",
            " marina diz que sua candidatura enc: \t0.83\n",
            " feliciano comete ato falho e escre: \t0.82\n",
            " operador de telemarketing tenta de: \t0.82\n",
            "\n",
            "--\n",
            "Topic #5: \n",
            "DILMA, PRESIDENTE, CUNHA, JA, DEPUTADO, ROUSSEFF, DILMA ROUSSEFF, EDUARDO, CAMARA, BRASIL, PRESIDENTE DILMA, EDUARDO CUNHA, TAMBEM, GOVERNO, DEPUTADOS\n",
            " posse dilma finalmente assume algu: \t0.97\n",
            " choro de cunha durante renuncia po: \t0.96\n",
            " dilma nao liga para queda de popul: \t0.89\n",
            " governo teme baby boom depois do f: \t0.88\n",
            " tv camara passa reprise da votacao: \t0.86\n",
            " protesto contra cunha reune milhar: \t0.86\n",
            " eleitor de dilma devera comparecer: \t0.84\n",
            " bolsonaro diz que beijo no asfalto: \t0.84\n",
            " dois ministros caem em 7 dias e te: \t0.83\n",
            " brito junior sera o ministro da fa: \t0.82\n",
            "\n",
            "--\n",
            "Topic #6: \n",
            "LULA, AECIO, SAO, PAULO, EXPRESIDENTE, SAO PAULO, PT, JA, NEVES, MORO, AECIO NEVES, SENADOR, GOVERNO, PSDB, DILMA\n",
            " alckmin diz que nao conversa com a: \t0.99\n",
            " apos av.  paulista eleitores esper: \t0.93\n",
            " preocupados com desaparecimento el: \t0.88\n",
            " placar da delacao lula r 23 milhoe: \t0.85\n",
            " final da copa do brasil e ultima c: \t0.85\n",
            " lula deve assumir ministerio mas a: \t0.80\n",
            " se eleito aecio pretende contratar: \t0.78\n",
            " quiz quem disse isso cunha ou lula: \t0.77\n",
            " aecio diz que dilma gagueja tanto : \t0.76\n",
            " denuncia aecio construiu aeroporto: \t0.76\n",
            "\n",
            "--\n",
            "Topic #7: \n",
            "SAO, PAULO, CASA, SAO PAULO, FILHO, MAE, JA, ATE, SO, MULHER, PAIS, HA, TAMBEM, CASO, CONTA\n",
            " professores esperam viver ao mestr: \t0.97\n",
            " homem que tentou beijar mulher a f: \t0.97\n",
            " motoristas bebados mudam de trajet: \t0.95\n",
            " abdelmassih descobre que e seu pro: \t0.94\n",
            " homeopata que matou esposa aos pou: \t0.93\n",
            " direitos humanos intervem em unive: \t0.89\n",
            " desaparecido ha 15 dias homem conf: \t0.87\n",
            " mulher e internada em sanatorio ap: \t0.85\n",
            " depois do casamento coletivo vem a: \t0.81\n",
            " onu aponta brasil como pioneiro no: \t0.80\n",
            "\n",
            "--\n",
            "Topic #8: \n",
            "PESSOAS, JUNIOR, NUPAL, OTILENO, ESTUDO, OTILENO JUNIOR, AMERICA, PESQUISAS, ESTAO, LATINA, AMERICA LATINA, NUCLEO, JA, PESQUISA, PESQUISAS AMERICA\n",
            " esse ano passou voando foi frase m: \t0.96\n",
            " ninguem alem de voce mesmo esta in: \t0.94\n",
            " verao do rio sera o mais quente de: \t0.87\n",
            " falar que esta calor nao diminui o: \t0.86\n",
            " pessoas que estao fazendo dieta co: \t0.85\n",
            " fazer cara feia para o caixa do ba: \t0.85\n",
            " estudo revela que homens com coque: \t0.84\n",
            " fins de semana nos quais voce tem : \t0.81\n",
            " chamar picole de paleta e a forma : \t0.80\n",
            " tristeza no orgulho hetero cancer : \t0.80\n"
          ]
        }
      ]
    },
    {
      "cell_type": "markdown",
      "source": [
        "#### Exemplos de sátiras muito associadas a um tópico"
      ],
      "metadata": {
        "id": "JLiFnDzevVdh"
      }
    },
    {
      "cell_type": "code",
      "source": [
        "main_topic = []\n",
        "mt_prob = []\n",
        "for l in range(len(df['title'])):\n",
        "  main_topic.append(doc_topic_matrix[l,:].argmax() + 1)\n",
        "  mt_prob.append(doc_topic_matrix[l,:].max())\n",
        "\n",
        "satires_s = df.assign(main_topic = main_topic, main_topic_prob = mt_prob)"
      ],
      "metadata": {
        "id": "r_fGIsAlv3Ve"
      },
      "execution_count": null,
      "outputs": []
    },
    {
      "cell_type": "code",
      "source": [
        "topico = 4\n",
        "pd.options.display.max_colwidth = 300\n",
        "satires_s[satires_s['main_topic'] == topico].sort_values('main_topic_prob', ascending = False)[['main_topic_prob','title', 'text']].sample(10)"
      ],
      "metadata": {
        "id": "dN_tzenRwRnN"
      },
      "execution_count": null,
      "outputs": []
    },
    {
      "cell_type": "code",
      "source": [
        "# Nomes das colunas\n",
        "topicnames = [\"Topic {}\".format(i + 1) for i in range(doc_topic_matrix.shape[1])]\n",
        "\n",
        "satire_topic = pd.DataFrame(np.round(doc_topic_matrix, 2), columns=topicnames, index = satires_s.index)\n",
        "satire_topic[['title', 'text']] = satires_s[['title','text']]\n",
        "\n",
        "ordem = ['title', 'text']\n",
        "ordem.extend(topicnames)\n",
        "letra_topico = satire_topic[ordem]\n",
        "\n",
        "letra_topico.query('title == \" jornais fecham acordo e virao com engov de brinde\"').sort_values(by = 'Topic 8', ascending = False).head()"
      ],
      "metadata": {
        "id": "C46jJoo2xOeR"
      },
      "execution_count": null,
      "outputs": []
    },
    {
      "cell_type": "markdown",
      "source": [
        "## Interpretando os tópicos!"
      ],
      "metadata": {
        "id": "RRYwqB3vUjJY"
      }
    },
    {
      "cell_type": "markdown",
      "source": [
        "## Tópico 1: Aqui encontramos sátiras relacionadas aos acontecimentos do governo do ex-presidente Michel Temer \n",
        "\n",
        "## Tópico 2: Sátiras que envolvem acontecimentos no estado do Rio de Janeiro\n",
        "\n",
        "## Tópico 3: Envolve justiça e criminalidade\n",
        "\n",
        "## Tópico 4: Envolve virais (vídeos, memes, acontecimentos) da Internet\n",
        "\n",
        "## Tópico 5: Sátiras relacionadas aos acontecimentos do governo da ex-presidente Dilma Roussef ou que citam ela \n",
        "\n",
        "## Tópico 6: Sátiras relacionadas ao ex-presidente Lula e/ou ao deputado federal Aécio Neves \n",
        "\n",
        "## Tópico 7: Sátiras que envolvem acontecimentos no estado de São Paulo\n",
        "\n",
        "## Tópico 8: Foge um pouco do contexto político e foca mais em situações cotidianas\n",
        "\n",
        "\n"
      ],
      "metadata": {
        "id": "6XrS7IhnV5Ka"
      }
    }
  ]
}